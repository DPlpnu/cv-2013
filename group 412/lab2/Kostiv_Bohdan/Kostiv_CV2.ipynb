{
 "cells": [
  {
   "cell_type": "code",
   "execution_count": 1,
   "metadata": {},
   "outputs": [],
   "source": [
    "from IPython.core.macro import Macro\n",
    "import cv2 as cv\n",
    "import numpy as np\n",
    "from google.colab.patches import cv2_imshow\n",
    "\n",
    "\n",
    "def find_features(img, nfeatures_limit=500):\n",
    "    # default values except for threshold - discard points that have 0 response\n",
    "    detector = cv.FastFeatureDetector_create(threshold=1, nonmaxSuppression=True,\n",
    "                                             type=cv.FAST_FEATURE_DETECTOR_TYPE_9_16)\n",
    "    # default values\n",
    "    descriptor = cv.xfeatures2d.DAISY_create(radius=4, q_radius=3, q_theta=8, q_hist=6,\n",
    "                                             norm=cv.xfeatures2d.DAISY_NRM_NONE,\n",
    "                                             interpolation=True, use_orientation=False)\n",
    "    \n",
    "    kp = detector.detect(img)\n",
    "    kp = sorted(kp, key=lambda x: x.response, reverse=True)[:nfeatures_limit]\n",
    "    kp, des = descriptor.compute(img, kp)\n",
    "\n",
    "    if kp is None or len(kp) < 3:\n",
    "        return [], []\n",
    "    if des is None or len(des) < 3:\n",
    "        return [], []\n",
    "    return kp, des\n",
    "\n",
    "\n",
    "def match_features(img1_kp_des, img2_kp_des, nfeatures_limit=20):\n",
    "    kp1, des1 = img1_kp_des\n",
    "    kp2, des2 = img2_kp_des\n",
    "    \n",
    "    matches = []\n",
    "    for i, k1 in enumerate(des1):\n",
    "          for j, k2 in enumerate(des2):\n",
    "              matches.append(cv.DMatch(_queryIdx=i, _trainIdx=j, _distance=np.linalg.norm(k1 - k2, ord=2)))\n",
    "    matches = sorted(matches, key=lambda x: x.distance)\n",
    "\n",
    "    return matches\n"
   ]
  },
  {
   "cell_type": "code",
   "execution_count": 2,
   "metadata": {},
   "outputs": [],
   "source": [
    "IMGS = ['D:\\Labs\\CV\\cv-2023\\group 412\\lab1\\Kostiv_Bohdan\\images\\image_5.jpg', 'D:\\Labs\\CV\\cv-2023\\group 412\\lab1\\Kostiv_Bohdan\\images\\image_6.jpg']\n",
    "\n",
    "test1 =  {\n",
    "    'img1': cv.cvtColor(cv.imread(IMGS[0]), cv.COLOR_BGR2GRAY),\n",
    "    'img2': cv.cvtColor(cv.imread(IMGS[1]), cv.COLOR_BGR2GRAY),\n",
    "    'MAX_FEATURES_FIND': 20,\n",
    "    'FEATURES_SHOW': 20\n",
    "    }\n",
    "test2 = {\n",
    "'img1': cv.cvtColor(cv.imread(IMGS[0]), cv.COLOR_BGR2GRAY),\n",
    "'img2': cv.cvtColor(cv.imread(IMGS[1]), cv.COLOR_BGR2GRAY),\n",
    "'MAX_FEATURES_FIND': 500,\n",
    "'FEATURES_SHOW': 20 \n",
    "}"
   ]
  },
  {
   "cell_type": "code",
   "execution_count": 5,
   "metadata": {},
   "outputs": [
    {
     "name": "stdout",
     "output_type": "stream",
     "text": [
      "CUSTOM BF:\n"
     ]
    },
    {
     "ename": "NameError",
     "evalue": "name 'cv2_imshow' is not defined",
     "output_type": "error",
     "traceback": [
      "\u001b[1;31m---------------------------------------------------------------------------\u001b[0m",
      "\u001b[1;31mNameError\u001b[0m                                 Traceback (most recent call last)",
      "Cell \u001b[1;32mIn[5], line 23\u001b[0m\n\u001b[0;32m     19\u001b[0m res \u001b[39m=\u001b[39m cv\u001b[39m.\u001b[39mdrawMatches(im2, kp2, im1, kp1, matches[:FEATURES_SHOW], \u001b[39mNone\u001b[39;00m, flags\u001b[39m=\u001b[39mcv\u001b[39m.\u001b[39mDrawMatchesFlags_NOT_DRAW_SINGLE_POINTS)\n\u001b[0;32m     21\u001b[0m \u001b[39mprint\u001b[39m(\u001b[39m'\u001b[39m\u001b[39mCUSTOM BF:\u001b[39m\u001b[39m'\u001b[39m)\n\u001b[1;32m---> 23\u001b[0m cv2_imshow(res)\n\u001b[0;32m     25\u001b[0m \u001b[39mprint\u001b[39m(\u001b[39m'\u001b[39m\u001b[39mORIGINAL BF:\u001b[39m\u001b[39m'\u001b[39m)\n\u001b[0;32m     27\u001b[0m bf \u001b[39m=\u001b[39m cv\u001b[39m.\u001b[39mBFMatcher(cv\u001b[39m.\u001b[39mNORM_L2)\n",
      "\u001b[1;31mNameError\u001b[0m: name 'cv2_imshow' is not defined"
     ]
    }
   ],
   "source": [
    "test = test2\n",
    "\n",
    "im1 = test['img1']\n",
    "im2 = test['img2']\n",
    "\n",
    "\n",
    "MAX_FEATURES_FIND = test['MAX_FEATURES_FIND']\n",
    "FEATURES_SHOW = test['FEATURES_SHOW']\n",
    "\n",
    "origin_img_features = find_features(im1, nfeatures_limit=MAX_FEATURES_FIND)\n",
    "matching_img_features = find_features(im2, nfeatures_limit=MAX_FEATURES_FIND)\n",
    "\n",
    "\n",
    "matches = match_features(matching_img_features, origin_img_features)\n",
    "\n",
    "kp1, des1 = origin_img_features\n",
    "kp2, des2 = matching_img_features\n",
    "\n",
    "res = cv.drawMatches(im2, kp2, im1, kp1, matches[:FEATURES_SHOW], None, flags=cv.DrawMatchesFlags_NOT_DRAW_SINGLE_POINTS)\n",
    "\n",
    "print('CUSTOM BF:')\n",
    "\n",
    "cv.imshow(\"image\", res)\n",
    "\n",
    "print('ORIGINAL BF:')\n",
    "\n",
    "bf = cv.BFMatcher(cv.NORM_L2)\n",
    "\n",
    "matches = bf.match(des2,des1)\n",
    "\n",
    "matches = sorted(matches, key = lambda x:x.distance)\n",
    "\n",
    "res = cv.drawMatches(im2,kp2,im1,kp1,matches[:FEATURES_SHOW],None,flags=cv.DrawMatchesFlags_NOT_DRAW_SINGLE_POINTS)\n",
    "\n",
    "cv.imshow(\"image\", res)\n"
   ]
  }
 ],
 "metadata": {
  "kernelspec": {
   "display_name": "venv",
   "language": "python",
   "name": "python3"
  },
  "language_info": {
   "codemirror_mode": {
    "name": "ipython",
    "version": 3
   },
   "file_extension": ".py",
   "mimetype": "text/x-python",
   "name": "python",
   "nbconvert_exporter": "python",
   "pygments_lexer": "ipython3",
   "version": "3.11.0"
  },
  "orig_nbformat": 4,
  "vscode": {
   "interpreter": {
    "hash": "c1396be7f5faa4c142ab05110e89487d3920cc89a85b59eea721844aa1fef7cc"
   }
  }
 },
 "nbformat": 4,
 "nbformat_minor": 2
}
