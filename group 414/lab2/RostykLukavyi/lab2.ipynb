{
  "nbformat": 4,
  "nbformat_minor": 0,
  "metadata": {
    "colab": {
      "provenance": []
    },
    "kernelspec": {
      "name": "python3",
      "display_name": "Python 3"
    },
    "language_info": {
      "name": "python"
    }
  },
  "cells": [
    {
      "cell_type": "code",
      "execution_count": null,
      "metadata": {
        "id": "z9qJ6wNAB2P8"
      },
      "outputs": [],
      "source": [
        "import cv2\n",
        "import numpy as np\n",
        "import matplotlib.pyplot as plt\n",
        "\n",
        "\n",
        "img = cv2.imread('image3.jpg', cv2.IMREAD_GRAYSCALE)\n",
        "\n",
        "rows, cols = img.shape\n",
        "M = cv2.getRotationMatrix2D((cols/2, rows/2), 30, 1) \n",
        "distorted_img = cv2.warpAffine(img, M, (cols, rows))\n",
        "\n",
        "\n",
        "akaze = cv2.AKAZE_create()\n",
        "kp1, des1 = akaze.detectAndCompute(img, None)\n",
        "kp2, des2 = akaze.detectAndCompute(distorted_img, None)\n",
        "\n",
        "\n",
        "bf = cv2.BFMatcher(cv2.NORM_HAMMING)\n",
        "matches = bf.knnMatch(des1, des2, k=2)\n",
        "\n",
        "\n",
        "good_matches = []\n",
        "for m, n in matches:\n",
        "    if m.distance < 0.75 * n.distance:\n",
        "        good_matches.append([m])\n",
        "\n",
        "\n",
        "result = cv2.drawMatchesKnn(img, kp1, distorted_img, kp2, good_matches, None, flags=cv2.DrawMatchesFlags_NOT_DRAW_SINGLE_POINTS)\n",
        "plt.figure(figsize=(12, 8))\n",
        "plt.imshow(result)\n",
        "plt.show()\n"
      ]
    }
  ]
}